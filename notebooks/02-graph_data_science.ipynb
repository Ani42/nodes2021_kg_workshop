{
 "cells": [
  {
   "cell_type": "code",
   "execution_count": 1,
   "id": "other-interview",
   "metadata": {},
   "outputs": [],
   "source": [
    "%matplotlib inline\n",
    "\n",
    "import json\n",
    "import re\n",
    "import urllib\n",
    "from pprint import pprint\n",
    "import time\n",
    "from tqdm import tqdm\n",
    "\n",
    "from py2neo import Node, Graph, Relationship, NodeMatcher\n",
    "from py2neo.bulk import merge_nodes\n",
    "\n",
    "import numpy as np\n",
    "import pandas as pd\n",
    "\n",
    "from sklearn.metrics import accuracy_score\n",
    "from sklearn.model_selection import train_test_split\n",
    "from sklearn import svm\n",
    "from sklearn.metrics import plot_confusion_matrix\n",
    "\n",
    "import matplotlib.pyplot as plt\n",
    "from mpl_toolkits.mplot3d import Axes3D\n",
    "import seaborn as sns"
   ]
  },
  {
   "cell_type": "code",
   "execution_count": 2,
   "id": "interim-deployment",
   "metadata": {},
   "outputs": [],
   "source": [
    "graph = Graph(\"bolt://neo4j:7687\", name=\"neo4j\", password=\"kgDemo\")\n",
    "nodes_matcher = NodeMatcher(graph)"
   ]
  },
  {
   "cell_type": "markdown",
   "id": "greenhouse-consent",
   "metadata": {},
   "source": [
    "# Let's try some more entity disambiguation\n",
    "\n",
    "Recall in the previous notebook that we looked at the cosine similarity of word vectors.  Instead, now let's look at the overlap of the relationships between our starting node, 'oh bah mə', and  'barack hussein obama ii'.  We might expect if there was strong similarity that we would see a lot of relationship overlap.  "
   ]
  },
  {
   "cell_type": "code",
   "execution_count": 3,
   "id": "efficient-shower",
   "metadata": {},
   "outputs": [
    {
     "name": "stdout",
     "output_type": "stream",
     "text": [
      "Total number of connected nodes:  1\n"
     ]
    },
    {
     "data": {
      "text/plain": [
       "['affordable care act']"
      ]
     },
     "execution_count": 3,
     "metadata": {},
     "output_type": "execute_result"
    }
   ],
   "source": [
    "pbo_ls = []\n",
    "pbo = graph.run('MATCH (n:Node {name: \"president barack obama\"})--(m) RETURN DISTINCT m.name')\n",
    "for record in pbo:\n",
    "    pbo_ls.append(record[0])\n",
    "print('Total number of connected nodes: ', len(pbo_ls))\n",
    "pbo_ls"
   ]
  },
  {
   "cell_type": "code",
   "execution_count": 4,
   "id": "impressed-moderator",
   "metadata": {},
   "outputs": [
    {
     "name": "stdout",
     "output_type": "stream",
     "text": [
      "Total number of connected nodes:  115\n"
     ]
    }
   ],
   "source": [
    "obm_ls = []\n",
    "obm = graph.run('MATCH (n:Node {name: \"oh bah mə\"})--(m) RETURN DISTINCT m.name')\n",
    "for record in obm:\n",
    "    obm_ls.append(record[0])\n",
    "print('Total number of connected nodes: ', len(obm_ls))"
   ]
  },
  {
   "cell_type": "code",
   "execution_count": 5,
   "id": "automotive-promise",
   "metadata": {},
   "outputs": [
    {
     "name": "stdout",
     "output_type": "stream",
     "text": [
      "Number of overlapping elements:  1\n",
      "Percent of overlapping elements:  1.0\n",
      "{'affordable care act'}\n"
     ]
    }
   ],
   "source": [
    "pbo_set = set(pbo_ls)\n",
    "obm_set = set(obm_ls)\n",
    "if (pbo_set & obm_set):\n",
    "    print('Number of overlapping elements: ', len(pbo_set & obm_set))\n",
    "    print('Percent of overlapping elements: ', len(pbo_set & obm_set)/len(pbo_ls))\n",
    "    print(pbo_set & obm_set)"
   ]
  },
  {
   "cell_type": "markdown",
   "id": "juvenile-shame",
   "metadata": {},
   "source": [
    "# Observation\n",
    "\n",
    "So we can see that 100% of the nodes connected to 'barack hussein obama ii' are in the connected node list of 'oh bah mə'.  This is a strong indicator that the former might be the same entity as the later.\n",
    "\n",
    "# Now let's connect to the graph and do some ML\n",
    "\n",
    "Here we are going to take advantage of the ability to both run Cypher queries in `py2neo` as well as to write the results to a Pandas DataFrame."
   ]
  },
  {
   "cell_type": "code",
   "execution_count": 6,
   "id": "tired-trace",
   "metadata": {},
   "outputs": [
    {
     "data": {
      "text/html": [
       "<div>\n",
       "<style scoped>\n",
       "    .dataframe tbody tr th:only-of-type {\n",
       "        vertical-align: middle;\n",
       "    }\n",
       "\n",
       "    .dataframe tbody tr th {\n",
       "        vertical-align: top;\n",
       "    }\n",
       "\n",
       "    .dataframe thead th {\n",
       "        text-align: right;\n",
       "    }\n",
       "</style>\n",
       "<table border=\"1\" class=\"dataframe\">\n",
       "  <thead>\n",
       "    <tr style=\"text-align: right;\">\n",
       "      <th></th>\n",
       "      <th>name</th>\n",
       "      <th>node_labels</th>\n",
       "      <th>pptu_person</th>\n",
       "      <th>pptu_place</th>\n",
       "      <th>pptu_thing</th>\n",
       "      <th>pptu_unknown</th>\n",
       "      <th>word_vec</th>\n",
       "      <th>n2v_all_nodes</th>\n",
       "    </tr>\n",
       "  </thead>\n",
       "  <tbody>\n",
       "    <tr>\n",
       "      <th>0</th>\n",
       "      <td>oh bah mə</td>\n",
       "      <td>[Subject]</td>\n",
       "      <td>0.0</td>\n",
       "      <td>0.0</td>\n",
       "      <td>0.0</td>\n",
       "      <td>1.0</td>\n",
       "      <td>[0.30828117334726657, 0.4690731740524814, -0.6...</td>\n",
       "      <td>[-0.34729817509651184, -0.5367594957351685, -0...</td>\n",
       "    </tr>\n",
       "    <tr>\n",
       "      <th>1</th>\n",
       "      <td>american politician</td>\n",
       "      <td>[Thing]</td>\n",
       "      <td>0.0</td>\n",
       "      <td>0.0</td>\n",
       "      <td>1.0</td>\n",
       "      <td>0.0</td>\n",
       "      <td>[0.8089123977272625, 0.5779756643640335, -0.93...</td>\n",
       "      <td>[-1.2034755945205688, -1.3894095420837402, -0....</td>\n",
       "    </tr>\n",
       "    <tr>\n",
       "      <th>2</th>\n",
       "      <td>44th president</td>\n",
       "      <td>[]</td>\n",
       "      <td>0.0</td>\n",
       "      <td>0.0</td>\n",
       "      <td>0.0</td>\n",
       "      <td>1.0</td>\n",
       "      <td>[0.8604758729589728, -0.6303598829758468, 0.03...</td>\n",
       "      <td>[0.07926028221845627, -0.5159320831298828, -0....</td>\n",
       "    </tr>\n",
       "    <tr>\n",
       "      <th>3</th>\n",
       "      <td>united states</td>\n",
       "      <td>[Place, Country, Thing, AdministrativeArea]</td>\n",
       "      <td>0.0</td>\n",
       "      <td>1.0</td>\n",
       "      <td>1.0</td>\n",
       "      <td>0.0</td>\n",
       "      <td>[-0.06853523850440979, 0.20753547549247742, -0...</td>\n",
       "      <td>[0.5507845282554626, -0.6372478604316711, -0.1...</td>\n",
       "    </tr>\n",
       "    <tr>\n",
       "      <th>4</th>\n",
       "      <td>democratic party</td>\n",
       "      <td>[Thing, Organization]</td>\n",
       "      <td>1.0</td>\n",
       "      <td>0.0</td>\n",
       "      <td>1.0</td>\n",
       "      <td>0.0</td>\n",
       "      <td>[0.03246232122182846, 0.12774689495563507, -0....</td>\n",
       "      <td>[0.20432987809181213, -0.21968920528888702, 0....</td>\n",
       "    </tr>\n",
       "  </tbody>\n",
       "</table>\n",
       "</div>"
      ],
      "text/plain": [
       "                  name                                  node_labels  \\\n",
       "0            oh bah mə                                    [Subject]   \n",
       "1  american politician                                      [Thing]   \n",
       "2       44th president                                           []   \n",
       "3        united states  [Place, Country, Thing, AdministrativeArea]   \n",
       "4     democratic party                        [Thing, Organization]   \n",
       "\n",
       "   pptu_person  pptu_place  pptu_thing  pptu_unknown  \\\n",
       "0          0.0         0.0         0.0           1.0   \n",
       "1          0.0         0.0         1.0           0.0   \n",
       "2          0.0         0.0         0.0           1.0   \n",
       "3          0.0         1.0         1.0           0.0   \n",
       "4          1.0         0.0         1.0           0.0   \n",
       "\n",
       "                                            word_vec  \\\n",
       "0  [0.30828117334726657, 0.4690731740524814, -0.6...   \n",
       "1  [0.8089123977272625, 0.5779756643640335, -0.93...   \n",
       "2  [0.8604758729589728, -0.6303598829758468, 0.03...   \n",
       "3  [-0.06853523850440979, 0.20753547549247742, -0...   \n",
       "4  [0.03246232122182846, 0.12774689495563507, -0....   \n",
       "\n",
       "                                       n2v_all_nodes  \n",
       "0  [-0.34729817509651184, -0.5367594957351685, -0...  \n",
       "1  [-1.2034755945205688, -1.3894095420837402, -0....  \n",
       "2  [0.07926028221845627, -0.5159320831298828, -0....  \n",
       "3  [0.5507845282554626, -0.6372478604316711, -0.1...  \n",
       "4  [0.20432987809181213, -0.21968920528888702, 0....  "
      ]
     },
     "execution_count": 6,
     "metadata": {},
     "output_type": "execute_result"
    }
   ],
   "source": [
    "df = graph.run('MATCH (n:Node) RETURN n.name, n.node_labels, n.pptu_person, n.pptu_place, n.pptu_thing, n.pptu_unknown, n.word_vec, n.n2v_all_nodes').to_data_frame()\n",
    "df.columns = ['name', 'node_labels', 'pptu_person', 'pptu_place', \n",
    "              'pptu_thing', 'pptu_unknown', 'word_vec', 'n2v_all_nodes']\n",
    "df2 = df.fillna(0)\n",
    "df2.head()"
   ]
  },
  {
   "cell_type": "markdown",
   "id": "grave-antigua",
   "metadata": {},
   "source": [
    "# Create a variety of `X` variables for the model (in the style of `scikit-learn`)..."
   ]
  },
  {
   "cell_type": "code",
   "execution_count": 7,
   "id": "sufficient-continuity",
   "metadata": {},
   "outputs": [],
   "source": [
    "def create_X(df2):\n",
    "\n",
    "    word_vec_ls = df2['word_vec'].to_list()\n",
    "    word_vec_arr = np.array([np.array(x) if x != 0 else np.zeros(300).tolist() for x in word_vec_ls], dtype=object)\n",
    "\n",
    "    n2v_an_ls = df2['n2v_all_nodes'].to_list()\n",
    "    n2v_arr = np.array([np.array(x) for x in n2v_an_ls], dtype=object)\n",
    "\n",
    "    print(word_vec_arr.shape, n2v_arr.shape)\n",
    "    \n",
    "    return word_vec_arr, n2v_arr"
   ]
  },
  {
   "cell_type": "code",
   "execution_count": 8,
   "id": "decreased-retailer",
   "metadata": {},
   "outputs": [
    {
     "name": "stdout",
     "output_type": "stream",
     "text": [
      "(655, 300) (655, 10)\n"
     ]
    }
   ],
   "source": [
    "X_word_vec, X_all_nodes = create_X(df2)"
   ]
  },
  {
   "cell_type": "markdown",
   "id": "fresh-maldives",
   "metadata": {},
   "source": [
    "# Out of convenience...\n",
    "\n",
    "...we are creating this function that will run a support vector machine classifier to see how well the different embeddings do at predicting different labels.  We do note that this is a multi-label problem (Person, Place, Thing, Unknown), but for simplicity we are going to evaluate the prediction against single labels within that dataset.  The interested reader is encouraged to try more sophisticated models that can handle the multi-label problem better.\n",
    "\n",
    "We also show below that each of the classes is significantly imbalanced.  The interested participant is encourage to experiment with balancing the classes to see how this impacts the overall accuracy."
   ]
  },
  {
   "cell_type": "code",
   "execution_count": 9,
   "id": "generic-imagination",
   "metadata": {},
   "outputs": [],
   "source": [
    "def modeler(df, column_name, X, k_folds=5, model='linear', show_matrix=True):\n",
    "    \n",
    "    y = df[column_name].fillna(0.0).to_numpy()\n",
    "    acc_scores = []\n",
    "    \n",
    "    pos = np.count_nonzero(y == 1.0)\n",
    "    neg = y.shape[0] - pos\n",
    "    print('Number of positive: ', pos, ' Number of negative: ', neg)\n",
    "    \n",
    "    for i in range(0, k_folds):\n",
    "        \n",
    "        X_train, X_test, y_train, y_test = train_test_split(X_word_vec, y, test_size=0.25)\n",
    "        clf = svm.SVC(kernel='linear')\n",
    "        clf.fit(X_train, y_train)\n",
    "        pred = clf.predict(X_test)\n",
    "\n",
    "        acc = accuracy_score(pred, y_test)\n",
    "        acc_scores.append(acc)        \n",
    "        \n",
    "    print('Accuracy scores: ', acc_scores)\n",
    "    print('Mean accuracy: ', np.mean(acc_scores))\n",
    "    \n",
    "    if show_matrix:\n",
    "        matrix = plot_confusion_matrix(clf, X_test, y_test, cmap=plt.cm.Blues, normalize='true')\n",
    "        plt.show(matrix)\n",
    "        plt.show()\n",
    "        \n",
    "    return"
   ]
  },
  {
   "cell_type": "code",
   "execution_count": 10,
   "id": "ignored-london",
   "metadata": {},
   "outputs": [
    {
     "name": "stdout",
     "output_type": "stream",
     "text": [
      "Number of positive:  117  Number of negative:  538\n",
      "Accuracy scores:  [0.8109756097560976, 0.8841463414634146, 0.8475609756097561, 0.8719512195121951, 0.8048780487804879]\n",
      "Mean accuracy:  0.8439024390243903\n"
     ]
    },
    {
     "data": {
      "image/png": "[encoded data removed]",
      "text/plain": [
       "<Figure size 432x288 with 2 Axes>"
      ]
     },
     "metadata": {
      "needs_background": "light"
     },
     "output_type": "display_data"
    }
   ],
   "source": [
    "modeler(df2, 'pptu_person', X_word_vec)"
   ]
  },
  {
   "cell_type": "code",
   "execution_count": 11,
   "id": "returning-lightweight",
   "metadata": {},
   "outputs": [
    {
     "name": "stdout",
     "output_type": "stream",
     "text": [
      "Number of positive:  117  Number of negative:  538\n",
      "Accuracy scores:  [0.8414634146341463, 0.8536585365853658, 0.8353658536585366, 0.8597560975609756, 0.8780487804878049]\n",
      "Mean accuracy:  0.853658536585366\n"
     ]
    },
    {
     "data": {
      "image/png": "[encoded data removed]",
      "text/plain": [
       "<Figure size 432x288 with 2 Axes>"
      ]
     },
     "metadata": {
      "needs_background": "light"
     },
     "output_type": "display_data"
    }
   ],
   "source": [
    "modeler(df2, 'pptu_person', X_all_nodes)"
   ]
  },
  {
   "cell_type": "code",
   "execution_count": 12,
   "id": "relative-franchise",
   "metadata": {},
   "outputs": [
    {
     "name": "stdout",
     "output_type": "stream",
     "text": [
      "Number of positive:  77  Number of negative:  578\n",
      "Accuracy scores:  [0.9024390243902439, 0.9146341463414634, 0.926829268292683, 0.9390243902439024, 0.9390243902439024]\n",
      "Mean accuracy:  0.9243902439024391\n"
     ]
    },
    {
     "data": {
      "image/png": "[encoded data removed]",
      "text/plain": [
       "<Figure size 432x288 with 2 Axes>"
      ]
     },
     "metadata": {
      "needs_background": "light"
     },
     "output_type": "display_data"
    }
   ],
   "source": [
    "modeler(df2, 'pptu_place', X_word_vec)"
   ]
  },
  {
   "cell_type": "code",
   "execution_count": 13,
   "id": "marine-victim",
   "metadata": {},
   "outputs": [
    {
     "name": "stdout",
     "output_type": "stream",
     "text": [
      "Number of positive:  77  Number of negative:  578\n",
      "Accuracy scores:  [0.8963414634146342, 0.9329268292682927, 0.9329268292682927, 0.9390243902439024, 0.926829268292683]\n",
      "Mean accuracy:  0.9256097560975609\n"
     ]
    },
    {
     "data": {
      "image/png": "[encoded data removed]",
      "text/plain": [
       "<Figure size 432x288 with 2 Axes>"
      ]
     },
     "metadata": {
      "needs_background": "light"
     },
     "output_type": "display_data"
    }
   ],
   "source": [
    "modeler(df2, 'pptu_place', X_all_nodes)"
   ]
  },
  {
   "cell_type": "code",
   "execution_count": 14,
   "id": "vietnamese-denial",
   "metadata": {},
   "outputs": [
    {
     "name": "stdout",
     "output_type": "stream",
     "text": [
      "Number of positive:  537  Number of negative:  118\n",
      "Accuracy scores:  [0.9085365853658537, 0.9146341463414634, 0.9451219512195121, 0.9634146341463414, 0.9024390243902439]\n",
      "Mean accuracy:  0.9268292682926831\n"
     ]
    },
    {
     "data": {
      "image/png": "[encoded data removed]",
      "text/plain": [
       "<Figure size 432x288 with 2 Axes>"
      ]
     },
     "metadata": {
      "needs_background": "light"
     },
     "output_type": "display_data"
    }
   ],
   "source": [
    "modeler(df2, 'pptu_thing', X_word_vec)"
   ]
  },
  {
   "cell_type": "code",
   "execution_count": 15,
   "id": "arranged-colors",
   "metadata": {},
   "outputs": [
    {
     "name": "stdout",
     "output_type": "stream",
     "text": [
      "Number of positive:  537  Number of negative:  118\n",
      "Accuracy scores:  [0.9451219512195121, 0.9390243902439024, 0.9329268292682927, 0.926829268292683, 0.9207317073170732]\n",
      "Mean accuracy:  0.9329268292682926\n"
     ]
    },
    {
     "data": {
      "image/png": "[encoded data removed]",
      "text/plain": [
       "<Figure size 432x288 with 2 Axes>"
      ]
     },
     "metadata": {
      "needs_background": "light"
     },
     "output_type": "display_data"
    }
   ],
   "source": [
    "modeler(df, 'pptu_thing', X_all_nodes)"
   ]
  },
  {
   "cell_type": "markdown",
   "id": "amended-switch",
   "metadata": {},
   "source": [
    "# Next steps\n",
    "\n",
    "There are so many things that you can try from here!  Some of the things I might consider would be:\n",
    "\n",
    "- Take time to tune the hyperparameters.  This can be done for:\n",
    "  - The spacy word embeddings\n",
    "  - The graph embeddings\n",
    "  - The ML model\n",
    "- Trying more sophisticated embedding approaches, such as GraphSAGE that takes into account the node properties.\n",
    "- Explore different embeddings.  Here we used the spacy word vectors to create embeddings for the nodes, but there are many, many more ways to create vectors that could be used for training the ML models!  Get creative!\n",
    "- Work the class imbalance problem.\n",
    "- This graph is quite small in reality.  Work on growing the graph by adding more layers to it via either Wikipedia or the Google Knowledge Graph.  As the graph gets larger, we might expect that the graph embeddings approaches will start to really shine beyond the word embeddings.\n",
    "\n"
   ]
  },
  {
   "cell_type": "code",
   "execution_count": null,
   "id": "unlike-astronomy",
   "metadata": {},
   "outputs": [],
   "source": []
  }
 ],
 "metadata": {
  "kernelspec": {
   "display_name": "Python 3",
   "language": "python",
   "name": "python3"
  },
  "language_info": {
   "codemirror_mode": {
    "name": "ipython",
    "version": 3
   },
   "file_extension": ".py",
   "mimetype": "text/x-python",
   "name": "python",
   "nbconvert_exporter": "python",
   "pygments_lexer": "ipython3",
   "version": "3.8.8"
  }
 },
 "nbformat": 4,
 "nbformat_minor": 5
}
